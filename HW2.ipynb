{
 "cells": [
  {
   "cell_type": "code",
   "execution_count": 1,
   "id": "d827e0b4",
   "metadata": {},
   "outputs": [],
   "source": [
    "import numpy as np\n",
    "import matplotlib.pyplot as plt\n",
    "from volatility import blackscholes as bs\n",
    "from tqdm import tqdm\n",
    "from typing import Union, Optional, Callable\n",
    "from dataclasses import dataclass\n",
    "import numpy as np\n",
    "import scipy.stats as st    # type: ignore\n",
    "from scipy import optimize  # type: ignore\n",
    "import numpy.typing as npt\n",
    "from volatility import mc\n",
    "FloatArray = npt.NDArray[np.float_]\n",
    "Floats = Union[float, FloatArray]"
   ]
  },
  {
   "cell_type": "markdown",
   "id": "7a907867",
   "metadata": {},
   "source": [
    "## Problem 1: Barrier option replication"
   ]
  },
  {
   "cell_type": "markdown",
   "id": "13cce3e7",
   "metadata": {},
   "source": [
    "Consider an option that gives the right to buy a stock at time $T$ at a price of $K$, provided that its price has not risen above $B$ for the entire time interval $[0,T]$. If the price rises above $B$, then the option cannot be exercised. The condition that the price exceeds $B$ is checked at discrete times $t_i = i\\Delta t$, where $\\Delta t = T/n$, $i=0,1,...,n$; the value of the price in the intervals between these moments is not taken into account.\n",
    "\n",
    "The pricing of such an option was considered at the seminar. Now you need to replicate it. The problem now is that you need to evaluate option's delta at each time moment using monte carlo simulatinos. Moreover, you need to remember at each time if the barrier has been crossed earlier, since the delta depends on it (equivalently, you can remember the price maximum up to the current point in time)."
   ]
  },
  {
   "cell_type": "markdown",
   "id": "8d842b52",
   "metadata": {},
   "source": [
    "Assume that asset prices are simualted using BS framework. The options and monte carlo parameters are:"
   ]
  },
  {
   "cell_type": "code",
   "execution_count": 2,
   "id": "5f3a4b9b",
   "metadata": {},
   "outputs": [],
   "source": [
    "s = 1             # spot price\n",
    "sigma = 0.25      # volatility\n",
    "t = 0.25          # time to expiration\n",
    "k = 1             # strike\n",
    "b = 1.15          # up and out barrier\n",
    "steps = 60        # number of time moments\n",
    "rel_err = 1e-2    # absolute error\n",
    "abs_err = 0       # relative error\n",
    "conf_prob = 0.95  # confidence interval provability"
   ]
  },
  {
   "cell_type": "markdown",
   "id": "ebd6f0f6",
   "metadata": {},
   "source": [
    "1. Simulate using BS module several asset price trajectories. Choose two simulated paths — one that crosses the barrier before expiration and one that doesn't, plot them. "
   ]
  },
  {
   "cell_type": "code",
   "execution_count": 25,
   "id": "15ea1740",
   "metadata": {},
   "outputs": [],
   "source": [
    "### YOUR CODE HERE"
   ]
  },
  {
   "cell_type": "markdown",
   "id": "2490c4f9",
   "metadata": {},
   "source": [
    "2. Write a function `price(i: int, s: float, m: float)` that calculates the price of an option at time `T[i]` with the stock price at that time equal to `s` and the price high up to that time `m`."
   ]
  },
  {
   "cell_type": "code",
   "execution_count": 26,
   "id": "121ebef2",
   "metadata": {},
   "outputs": [],
   "source": [
    "### YOUR CODE HERE"
   ]
  },
  {
   "cell_type": "markdown",
   "id": "17d8b21e",
   "metadata": {},
   "source": [
    "3. Write a function `delta(i: int, s: float, m: float)` that calculates the delta of an option using numerical differentiation (`scipy.misc.derivative`). Pay attention to the `dx` parameter of the `derivative` function and see what it does. Note: the default value of `dx=1` in this problem is bad, because it can lead to price calculation when `s` is negative."
   ]
  },
  {
   "cell_type": "code",
   "execution_count": 27,
   "id": "426fa33c",
   "metadata": {},
   "outputs": [],
   "source": [
    "### YOUR CODE HERE"
   ]
  },
  {
   "cell_type": "markdown",
   "id": "8b4c59e3",
   "metadata": {},
   "source": [
    "3. Take one of the simulated trajectories from question 1 that **crosses** the barrier. Calculate for a given trajectory the entire value trajectory of the replicating portfolio. Compare the trajectory of the replicating portfolio with the trajectory of the option price. Do the trajectories coincide? Why? How long does the calculation take?\n",
    "\n",
    "    *Answer requirements.* The answer must contain the plot with two trajectories: the option price and the value of the replicating portfolio at `T[i]`."
   ]
  },
  {
   "cell_type": "code",
   "execution_count": 28,
   "id": "2744e6d3",
   "metadata": {},
   "outputs": [],
   "source": [
    "### YOUR CODE HERE"
   ]
  }
 ],
 "metadata": {
  "kernelspec": {
   "display_name": "Python 3 (ipykernel)",
   "language": "python",
   "name": "python3"
  },
  "language_info": {
   "codemirror_mode": {
    "name": "ipython",
    "version": 3
   },
   "file_extension": ".py",
   "mimetype": "text/x-python",
   "name": "python",
   "nbconvert_exporter": "python",
   "pygments_lexer": "ipython3",
   "version": "3.9.7"
  }
 },
 "nbformat": 4,
 "nbformat_minor": 5
}
