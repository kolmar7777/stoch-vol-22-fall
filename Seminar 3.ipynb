{
 "cells": [
  {
   "cell_type": "code",
   "execution_count": 40,
   "id": "86741629",
   "metadata": {},
   "outputs": [],
   "source": [
    "import numpy as np\n",
    "import matplotlib.pyplot as plt\n",
    "from volatility import blackscholes as bs\n",
    "from tqdm import tqdm\n",
    "from typing import Union, Optional, Callable\n",
    "from dataclasses import dataclass\n",
    "import numpy as np\n",
    "import scipy.stats as st    # type: ignore\n",
    "from scipy import optimize  # type: ignore\n",
    "import numpy.typing as npt\n",
    "from volatility import mc\n",
    "FloatArray = npt.NDArray[np.float_]\n",
    "Floats = Union[float, FloatArray]"
   ]
  },
  {
   "cell_type": "markdown",
   "id": "47b63cb8",
   "metadata": {},
   "source": [
    "### Problem 1: Barier oprion pricing with MC approach"
   ]
  },
  {
   "cell_type": "markdown",
   "id": "acaf510e",
   "metadata": {},
   "source": [
    "Consider an option that gives the right to buy a stock at time $T$ at a price of $K$, provided that its price has not risen above $B$ for the entire time interval $[0,T]$. If the price rises above $B$, then the option cannot be exercised. The condition that the price exceeds $B$ is checked at discrete times $t_i = i\\Delta t$, where $\\Delta t = T/n$, $i=0,1,...,n$; the value of the price in the intervals between these moments is not taken into account.\n",
    "\n",
    "\n",
    "Using the Monte Carlo method, find the price of such an option. Use the parameter values from the next cell.\n",
    "\n",
    "*Note:* The price of a barrier option can be found analytically using the joint distribution of the maximum of the Brownian motion and its value at the last moment of time. Try to do this and compare with the answer you got (besides the Monte Carlo error, there will also be a small difference due to the fact that in this problem the condition for exceeding $B$ is checked at discrete times)."
   ]
  },
  {
   "cell_type": "code",
   "execution_count": 33,
   "id": "47fd2b8f",
   "metadata": {},
   "outputs": [],
   "source": [
    "s = 1             # spot price\n",
    "sigma = 0.25      # volatility\n",
    "t = 0.25          # time to expiration\n",
    "k = 1             # strike\n",
    "b = 1.15          # up and out barrier\n",
    "steps = 60        # number of time moments\n",
    "rel_err = 1e-4    # absolute error\n",
    "abs_err = 0       # relative error\n",
    "conf_prob = 0.95  # confidence interval provability"
   ]
  },
  {
   "cell_type": "code",
   "execution_count": 34,
   "id": "5ffe23c7",
   "metadata": {},
   "outputs": [],
   "source": [
    "def option_payoff(S: FloatArray):\n",
    "    return np.where(np.amax(S, axis=0) > b, 0, np.maximum(S[-1] - k, 0))"
   ]
  },
  {
   "cell_type": "code",
   "execution_count": 35,
   "id": "208f951b",
   "metadata": {},
   "outputs": [],
   "source": [
    "BS = bs.BlackScholes(s, sigma)"
   ]
  },
  {
   "cell_type": "code",
   "execution_count": 37,
   "id": "41c32cb7",
   "metadata": {},
   "outputs": [],
   "source": [
    "result = mc.monte_carlo(simulator = lambda n: BS.simulate(t, steps, n), \n",
    "                        f = payoff, \n",
    "                        rel_err = rel_err,\n",
    "                        abs_err = abs_err,\n",
    "                        conf_prob = conf_prob,\n",
    "                        control_f = lambda S: S[-1] - k)"
   ]
  },
  {
   "cell_type": "code",
   "execution_count": 38,
   "id": "856dd03e",
   "metadata": {},
   "outputs": [
    {
     "name": "stdout",
     "output_type": "stream",
     "text": [
      "Knock out option price:  0.014620239770425838\n",
      "Number of iterations:  10000000\n",
      "Sucess factor:  False\n",
      "Sucess factor:  False\n",
      "Error:  1.8314260164933465e-05\n"
     ]
    }
   ],
   "source": [
    "print(\"Knock out option price: \", result.x)\n",
    "print(\"Number of iterations: \", result.iterations)\n",
    "print(\"Sucess factor: \", result.success)\n",
    "print(\"Sucess factor: \", result.success)\n",
    "print(\"Error: \", result.error)"
   ]
  }
 ],
 "metadata": {
  "kernelspec": {
   "display_name": "Python 3 (ipykernel)",
   "language": "python",
   "name": "python3"
  },
  "language_info": {
   "codemirror_mode": {
    "name": "ipython",
    "version": 3
   },
   "file_extension": ".py",
   "mimetype": "text/x-python",
   "name": "python",
   "nbconvert_exporter": "python",
   "pygments_lexer": "ipython3",
   "version": "3.9.7"
  }
 },
 "nbformat": 4,
 "nbformat_minor": 5
}
