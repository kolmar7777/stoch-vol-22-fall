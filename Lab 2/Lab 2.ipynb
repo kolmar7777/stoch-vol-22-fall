{
 "cells": [
  {
   "cell_type": "markdown",
   "id": "c3fdea3c-008c-44ee-a7d4-234587df63a9",
   "metadata": {},
   "source": [
    "## \"Heston, we have a problem\""
   ]
  },
  {
   "cell_type": "markdown",
   "id": "3b25abf1-dc46-4426-a672-c92b8c0146f2",
   "metadata": {},
   "source": [
    "We offer you the following practical task on Heston model. \n",
    "\n",
    "Total score is **101**, which will be converted to $21\\%$ of the course grade. You have $1$ month for this work. **Deadline is 28th of December, 23:59 MSK**.\n",
    "\n",
    "The file must be sent to **stoch-vol-22-fall@yandex.ru** with topic \"stoch-vol Lab2\".  Please rename your file as **\"SurnameName_Lab2.ipynb\"** before sending. Don't forget to attach all required `.py` modules.\n",
    "\n",
    "If you have any questions feel free to ask in the course Telegram chat (**preferred**), [Viktor](https://t.me/v_antipov) or [Igor](https://t.me/igortao)."
   ]
  },
  {
   "cell_type": "markdown",
   "id": "f152a7fa-4b3c-4924-a780-1d75ba4f1082",
   "metadata": {},
   "source": [
    "---"
   ]
  },
  {
   "cell_type": "markdown",
   "id": "64e4fa24-4220-4254-a07f-47c76d0876f5",
   "metadata": {},
   "source": [
    "---"
   ]
  },
  {
   "cell_type": "markdown",
   "id": "e525dabd-f05f-484d-a5b0-ec4bb0a13d04",
   "metadata": {},
   "source": [
    "## Episode 0: Import all python modules you wish 💅 (1 point)"
   ]
  },
  {
   "cell_type": "code",
   "execution_count": 1,
   "id": "03627461-27ac-4dc3-980d-ce9ed91d69a6",
   "metadata": {},
   "outputs": [],
   "source": [
    "### YOUR IMPORTS HERE\n",
    "\n",
    "import numpy as np\n",
    "import matplotlib.pyplot as plt\n",
    "#..."
   ]
  },
  {
   "cell_type": "markdown",
   "id": "894f3942-103f-4cd0-a3fa-88b55e503218",
   "metadata": {},
   "source": [
    "---"
   ]
  },
  {
   "cell_type": "markdown",
   "id": "d96bd0cf-8cf8-40e4-a626-85ae171c74eb",
   "metadata": {},
   "source": [
    "---"
   ]
  },
  {
   "cell_type": "markdown",
   "id": "20b959ba-7fec-44ca-b65a-383a61334bec",
   "metadata": {},
   "source": [
    "## Episode 1: Euler vs Andersen 🧠 (40 points)"
   ]
  },
  {
   "cell_type": "markdown",
   "id": "dbabd72c-1b21-4ba0-8fe7-72b072194801",
   "metadata": {},
   "source": [
    "**1.** 🧠 <span style=\"color:blue\">(10 points)</span> Implement Euler scheme in `Heston` class from `heston.py`. That is, write a function \n",
    "\n",
    "`simulate_euler(self, t: float, steps: int, paths: int, return_v: bool = False) -> Union[np.ndarray, tuple[np.ndarray, np.ndarray]]` \n",
    "\n",
    "that simulates trajectories of $S_t$ and $V_t$. See lecture-9 for algorithm.\n",
    "\n",
    "**Args**:\n",
    "\n",
    "`t`: Time interval <br>\n",
    "`steps`: Number of simulation points minus 1, i.e. paths are sampled at `t_i = i*dt`, where `i = 0, ..., steps`, `dt = t/steps`. <br>\n",
    "`paths`: Number of paths to simulate. <br>\n",
    "`return_v` : If True, returns both price and variance processes.\n",
    "\n",
    "**Returns:**\n",
    "\n",
    "If `return_v` is False, returns an array `s` of shape `(steps+1, paths)`, where `s[i, j]` is the value of `j`-th path of\n",
    "the price process at point `t_i`.\n",
    "\n",
    "If `return_v` is True, returns a tuple `(s, v)`, where `s` and `v` are arrays of shape `(steps+1, paths)` representing the price and variance processes.\n"
   ]
  },
  {
   "cell_type": "markdown",
   "id": "b6645b02-2d01-4b90-92d1-9852640b6cfa",
   "metadata": {},
   "source": [
    "Note that negative values of the variance process must be truncated, i.e. the coefficients of the SDEs for the log-price and the variance processes should contain $V_t^+$."
   ]
  },
  {
   "cell_type": "markdown",
   "id": "372dbfbb-c23b-4832-9b76-cfbf78008a9d",
   "metadata": {},
   "source": [
    "---"
   ]
  },
  {
   "cell_type": "markdown",
   "id": "a86e46fa-ec3d-458f-a7c8-541a1cfdb789",
   "metadata": {},
   "source": [
    "**2.** 🧠 <span style=\"color:blue\">(15 points)</span> Implement Andersen scheme in `Heston` class from `heston.py`. That is, write a function \n",
    "\n",
    "`simulate_andersen(self, t: float, steps: int, paths: int, return_v: bool = False) -> Union[np.ndarray, tuple[np.ndarray, np.ndarray]]` \n",
    "\n",
    "that simulates trajectories of $S_t$ and $V_t$. See lecture-9 for algorithm.\n",
    "\n",
    "**Args** and **Returns** description is the same. \n"
   ]
  },
  {
   "cell_type": "markdown",
   "id": "a3c934e7-5d25-4c92-908a-5e8761ffd1c9",
   "metadata": {},
   "source": [
    "---"
   ]
  },
  {
   "cell_type": "markdown",
   "id": "6c8b25ee-0d2e-4a11-9111-844e85a34b8a",
   "metadata": {},
   "source": [
    "**3.** 🧠 <span style=\"color:blue\">(15 points)</span> Using Monte-Carlo, price call option with $0.1 \\%$ relative error using both schemes. For each scheme find number of points (`steps` parameter in `monte_carlo`) such that the received answer is approximately within $0.2 \\%$ of the theoretical option price (use `call_price` method to get theoretical one). Which algorithm needs fewer iterations to converge? What about running time of each scheme? "
   ]
  },
  {
   "cell_type": "code",
   "execution_count": 6,
   "id": "294bbba1-20f0-4bdb-9947-96746d3f4a3c",
   "metadata": {},
   "outputs": [],
   "source": [
    "# YOUR CODE HERE"
   ]
  },
  {
   "cell_type": "markdown",
   "id": "140d6250-2708-4a16-b107-0ce4f75f5b83",
   "metadata": {},
   "source": [
    "---"
   ]
  },
  {
   "cell_type": "markdown",
   "id": "3fffe9cd-7e5c-4b13-954c-e20b70f865ab",
   "metadata": {},
   "source": [
    "---"
   ]
  },
  {
   "cell_type": "markdown",
   "id": "d36a4622-7f2f-4941-9aa8-316442d8ec9b",
   "metadata": {},
   "source": [
    "## Episode 2: Lewis formula 🧠 (50 points)"
   ]
  },
  {
   "cell_type": "markdown",
   "id": "88153a17-3d7d-4723-86b5-2ce856b72088",
   "metadata": {},
   "source": [
    "Your goal in this task is to implement the Lewis formula for option valuation.\n",
    "All the details can be found in Lewis, Alan L. \"Option Valuation under Stochastic Volatility II.\" Finance Press (2009)."
   ]
  },
  {
   "cell_type": "markdown",
   "id": "013fd886-7dd6-46fd-a164-15bb0530ad15",
   "metadata": {},
   "source": [
    "The value of the call option with strike price $K$ and time to expiration $T$ reads:\n",
    "$$\n",
    "C = s - \\frac{Ke^{-rT}}{2\\pi} \\int_{-\\infty+i/2}^{+\\infty+i/2} e^{-ixu} \\frac{\\hat H(u)}{u^2 - iu} du,\n",
    "$$\n",
    "where $x=\\ln(S_0/K)+rT$, and the function $\\hat H(u)$ is the _fundamental transform_ for the Heston model:\n",
    "$$\n",
    "\\hat H(u) = \\exp(f_1(u) + vf_2(u)),\n",
    "$$\n",
    "where\n",
    "$$\n",
    "\\begin{aligned}\n",
    "&f_1(u) = \\frac{2\\kappa\\theta}{\\sigma^2}\n",
    "  \\left[ \n",
    "    qg(u) - \\ln\\left( \\frac{1-h(u)e^{-q\\xi(u)}}{1-h(u)} \\right)\n",
    "  \\right],\\\\\n",
    "&f_2(u) = \\left( \\frac{1-e^{-q\\xi(u)}}{1-h(u)e^{-q\\xi(u)}} \\right)g(u),\n",
    "\\end{aligned}\n",
    "$$\n",
    "and\n",
    "$$\n",
    "\\begin{aligned}\n",
    "&g(u) = \\frac{b(u) - \\xi(u)}{2}, \\quad \n",
    "h(u)  = \\frac{b(u) - \\xi(u)}{b(u) + \\xi(u)}, \\quad \n",
    "q     = \\frac{\\sigma^2T}{2},\\\\\n",
    "&\\xi(u) = \\sqrt{b(u)^2 + \\frac{4(u^2-iu)}{\\sigma^2}}, \\qquad \n",
    "b(u)    = \\frac{2(i\\rho\\sigma u + \\kappa)}{\\sigma^2}\n",
    "\\end{aligned}\n",
    "$$"
   ]
  },
  {
   "cell_type": "markdown",
   "id": "9f26dff3-f516-4b48-be29-d8dbc928500d",
   "metadata": {},
   "source": [
    "**1. Implementation** 🧠 <span style=\"color:blue\">(30 points)</span>"
   ]
  },
  {
   "cell_type": "markdown",
   "id": "5ce89ebf-f361-4774-84a3-6c9ec64328dd",
   "metadata": {},
   "source": [
    "Implement the Lewis formula in the current notebook.\n",
    "Ordinal implementatoin — 15 points, using `numba` — 30 points."
   ]
  },
  {
   "cell_type": "code",
   "execution_count": 4,
   "id": "a20cea22-784f-41b6-8d89-1a60dccfec10",
   "metadata": {},
   "outputs": [],
   "source": [
    "# YOUR CODE HERE"
   ]
  },
  {
   "cell_type": "markdown",
   "id": "a638fe22-7d73-471b-b7bd-eceadbdfb786",
   "metadata": {},
   "source": [
    "---"
   ]
  },
  {
   "cell_type": "markdown",
   "id": "e26efcac-984b-429e-95b5-1d194c3a514e",
   "metadata": {},
   "source": [
    "**2. Validation** 🧠 <span style=\"color:blue\">(20 points)</span>"
   ]
  },
  {
   "cell_type": "markdown",
   "id": "2d3fbdf0-e1a9-42f4-acea-1c54ef93f872",
   "metadata": {},
   "source": [
    "- (10 points): Make sure you implement the Lewis method correctly. Compare the IV smiles of both methods for different times to expiration, model parameters and interest rates."
   ]
  },
  {
   "cell_type": "markdown",
   "id": "8db1250c-901e-435b-b251-fc335e649fe1",
   "metadata": {},
   "source": [
    "- (10 points): Compare the performance of both methods using the `timeit` magic for different parameters sets. Is there any significant difference between the methds? If you implement the method using `numba` add to the comparison the variant with `numba` turned off, which can be done as follows:\n",
    "```{python}\n",
    "from numba import config\n",
    "config.DISABLE_JIT = True\n",
    "``` "
   ]
  },
  {
   "cell_type": "code",
   "execution_count": 2,
   "id": "1f2ae1c7-dc2b-481e-b158-145a879e68ea",
   "metadata": {},
   "outputs": [],
   "source": [
    "# YOUR CODE HERE"
   ]
  },
  {
   "cell_type": "markdown",
   "id": "9f7adc2f-f563-4a40-ac98-f1d9a2a1258c",
   "metadata": {},
   "source": [
    "---"
   ]
  },
  {
   "cell_type": "markdown",
   "id": "e04493aa-fc0a-49e8-9cac-1ade43a6ef50",
   "metadata": {},
   "source": [
    "---"
   ]
  },
  {
   "cell_type": "markdown",
   "id": "e338da2a-88b0-4b11-b54c-8264d67b3d69",
   "metadata": {},
   "source": [
    "## Episode 3: Memes (10 points) ⚰️"
   ]
  },
  {
   "cell_type": "markdown",
   "id": "51204ae4-5cb9-47dc-bb5d-fd9c818583ea",
   "metadata": {},
   "source": [
    "Come up with a funny financial math meme.\n",
    "If the meme is not funny, then we will have to deduct points.\n",
    "Don't steal memes, come up with your own!"
   ]
  },
  {
   "cell_type": "code",
   "execution_count": 3,
   "id": "f868271d-3175-4c53-800d-d3b588449bd6",
   "metadata": {},
   "outputs": [],
   "source": [
    "# YOUR MEME HERE"
   ]
  }
 ],
 "metadata": {
  "kernelspec": {
   "display_name": "Python 3 (ipykernel)",
   "language": "python",
   "name": "python3"
  },
  "language_info": {
   "codemirror_mode": {
    "name": "ipython",
    "version": 3
   },
   "file_extension": ".py",
   "mimetype": "text/x-python",
   "name": "python",
   "nbconvert_exporter": "python",
   "pygments_lexer": "ipython3",
   "version": "3.9.7"
  }
 },
 "nbformat": 4,
 "nbformat_minor": 5
}
