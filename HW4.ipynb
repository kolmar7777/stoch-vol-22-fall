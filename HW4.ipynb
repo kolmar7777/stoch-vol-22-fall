{
 "cells": [
  {
   "cell_type": "markdown",
   "id": "8c9419db",
   "metadata": {},
   "source": [
    "## Home work 4"
   ]
  },
  {
   "cell_type": "markdown",
   "id": "16465009",
   "metadata": {},
   "source": [
    "The file must be sent to stoch-vol-22-fall@yandex.ru with topic \"stoch-vol HW4\". WARNING: topic is important! Inbox will be filtered automatcally based on exact match. Please zip all files into **one** folder and rename it as \"SurnameName_HW4\" before sending.\n",
    "\n",
    "\n",
    "**Deadline:** 1st of November, 23:59.\n",
    "\n",
    "If you have any questions feel free to ask in Telegram https://t.me/v_antipov or https://t.me/igortao. \n",
    "\n",
    "**Full name:**\n",
    "\n",
    "**Faculty:**"
   ]
  },
  {
   "cell_type": "markdown",
   "id": "a2421df8",
   "metadata": {},
   "source": [
    "---"
   ]
  },
  {
   "cell_type": "markdown",
   "id": "c7cdc0a8-2ea9-4231-bc12-cff227b5e88f",
   "metadata": {},
   "source": [
    "### Problem 0 (hint)"
   ]
  },
  {
   "cell_type": "markdown",
   "id": "a8b7d8f6-2e69-481f-b37f-e862eb237c60",
   "metadata": {},
   "source": [
    "Recall the Lévy theorem (about BM), state it."
   ]
  },
  {
   "cell_type": "markdown",
   "id": "2217bd62-26e2-4a48-9aac-22d8f87e626c",
   "metadata": {},
   "source": [
    "---"
   ]
  },
  {
   "cell_type": "markdown",
   "id": "5d690f09",
   "metadata": {},
   "source": [
    "### Problem 1"
   ]
  },
  {
   "cell_type": "markdown",
   "id": "dc89435d-123b-4447-accd-f077df26585f",
   "metadata": {},
   "source": [
    "Prove existence and uniqueness of strong solution of the Ornstein-Uhlenbeck process:\n",
    "$$\n",
    "dX_t = \\theta \\left( \\mu - X_t \\right) dt + \\sigma dW_t, \\quad X_0 \\in \\mathbb{R}.\n",
    "$$\n",
    "Solve it"
   ]
  },
  {
   "cell_type": "markdown",
   "id": "9aa0b8b3",
   "metadata": {},
   "source": [
    "---"
   ]
  },
  {
   "cell_type": "markdown",
   "id": "e26fcfdb-9968-40ec-8a55-c604c6abcfcc",
   "metadata": {},
   "source": [
    "### Problem 2"
   ]
  },
  {
   "cell_type": "markdown",
   "id": "d5f410e3-63be-4c11-9cac-3d25b051eb80",
   "metadata": {},
   "source": [
    "Let $B_t^1,\\ldots,B_t^n$ be independent BMs, \n",
    "$X_t = x_0^2 + \\left(B_t^1\\right)^2 + \\ldots + \\left(B_t^n\\right)^2$.\n",
    "Show that $X_t$ is the srquare of the Bessel's process:\n",
    "$$\n",
    "dX_t = ndt + 2 \\sqrt{\\left\\lvert X_t \\right\\rvert} dB_t,\\quad X_0 = x_0^2.\n",
    "$$"
   ]
  },
  {
   "cell_type": "markdown",
   "id": "fbaa32ea",
   "metadata": {},
   "source": [
    "---"
   ]
  },
  {
   "cell_type": "markdown",
   "id": "be90762b-e38c-4cd2-8753-32693213bde8",
   "metadata": {},
   "source": [
    "### Problem 4"
   ]
  },
  {
   "cell_type": "markdown",
   "id": "50f43a21-43bf-479c-aca3-4e13c2853cdd",
   "metadata": {},
   "source": [
    "by applying Îto's formula, show that the Bessel's process of dimensionality $\\delta > 1$ satisfies:\n",
    "$$\n",
    "dY_t = \\dfrac{\\delta - 1}{2Y_t}dt + dB_t.\n",
    "$$"
   ]
  },
  {
   "cell_type": "markdown",
   "id": "ff071f63-6169-4683-80fe-348dddec5572",
   "metadata": {},
   "source": [
    "---"
   ]
  },
  {
   "cell_type": "markdown",
   "id": "6babf783-ed55-4a2c-a458-8acc4a26375a",
   "metadata": {},
   "source": [
    "### Problem 5\n",
    "#### (Girsanov's example)"
   ]
  },
  {
   "cell_type": "markdown",
   "id": "05a886e4-05b4-4138-833f-8c9137294f25",
   "metadata": {},
   "source": [
    "Consider equation:\n",
    "$$\n",
    "dX_t = \\left\\lvert X_t \\right\\rvert^\\alpha dB_t, \\quad X_0 = 0, \\quad \\alpha > 0.\n",
    "$$\n",
    "\n",
    "**5.1**. Prove that for $\\alpha \\ge 1/2$ a unique strong solution exists.\n",
    "\n",
    "**5.2**. Let $W_t$ be the BM. Consider\n",
    "$$\n",
    "A_t = \\int_0^t \\left\\lvert W_s \\right\\rvert^{-2\\alpha}\\,ds, \\quad\n",
    "\\tau_t = \\inf\\left\\{t \\ge 0 \\colon A_s > t \\right\\}, \\quad\n",
    "X_t = W_{\\tau_t}.\n",
    "$$\n",
    "Prove that for $\\{\\tau_t\\}_{t \\ge 0}\\ \\ \\tau_t \\stackrel{\\mbox{a.s.}}{<} \\infty$,\n",
    "$\\tau_t$ is continuous and strictly increasing.\n",
    "\n",
    "**5.3**. Prove that $A_t \\rightarrow \\infty$ as $t \\rightarrow \\infty$.\n",
    "\n",
    "**5.4**. Prove that $X_t$ is continuous $\\mathcal{F}^W_{\\tau_t}$-measurable local martingale\n",
    "with $\\left< X \\right>_t = \\tau_t$, hence\n",
    "$$\n",
    "B_t = \\int_o^t \\left\\lvert X_s \\right\\rvert^{-\\alpha}\\,dX_s\n",
    "$$\n",
    "is a continuous $\\mathcal{F}^W_{\\tau_t}$-measurable local martingale with $\\left< B \\right>_t = t$, hence\n",
    "$B_t$ is a BM and $(X, B)$ is non-trivial weak solution."
   ]
  },
  {
   "cell_type": "markdown",
   "id": "750a0105-e1c2-4406-9fa4-0d78a1401244",
   "metadata": {},
   "source": [
    "---"
   ]
  }
 ],
 "metadata": {
  "kernelspec": {
   "display_name": "Python 3 (ipykernel)",
   "language": "python",
   "name": "python3"
  },
  "language_info": {
   "codemirror_mode": {
    "name": "ipython",
    "version": 3
   },
   "file_extension": ".py",
   "mimetype": "text/x-python",
   "name": "python",
   "nbconvert_exporter": "python",
   "pygments_lexer": "ipython3",
   "version": "3.9.12"
  }
 },
 "nbformat": 4,
 "nbformat_minor": 5
}
