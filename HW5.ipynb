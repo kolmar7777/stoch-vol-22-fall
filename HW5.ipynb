{
 "cells": [
  {
   "cell_type": "markdown",
   "id": "8c9419db",
   "metadata": {},
   "source": [
    "## Home work 5"
   ]
  },
  {
   "cell_type": "markdown",
   "id": "16465009",
   "metadata": {},
   "source": [
    "The file must be sent to stoch-vol-22-fall@yandex.ru with topic \"stoch-vol HW5\". WARNING: topic is important! Inbox will be filtered automatcally based on exact match. Please zip all files into **one** folder and rename it as \"SurnameName_HW5\" before sending.\n",
    "\n",
    "\n",
    "**Deadline:** 20th of November, 23:59.\n",
    "\n",
    "If you have any questions feel free to ask in Telegram chat **(preferred)** or personally https://t.me/v_antipov or https://t.me/igortao. \n",
    "\n",
    "**Full name:**\n",
    "\n",
    "**Faculty:**"
   ]
  },
  {
   "cell_type": "markdown",
   "id": "a2421df8",
   "metadata": {},
   "source": [
    "---"
   ]
  },
  {
   "cell_type": "markdown",
   "id": "5d690f09",
   "metadata": {},
   "source": [
    "### Problem 1"
   ]
  },
  {
   "cell_type": "markdown",
   "id": "ea4f665f-5b10-480b-a3f8-ed623c1bbe70",
   "metadata": {},
   "source": [
    "By using Hagan and Woodward's formula examine the IV curve in CEV model for monotonicity and convexity when the strike price is close to the current underlying price.\n",
    "Consider cases $\\beta < 1$ and $\\beta > 1$."
   ]
  },
  {
   "cell_type": "markdown",
   "id": "3c49180a-956a-47c6-bcbb-efae5f92cddb",
   "metadata": {},
   "source": [
    "---"
   ]
  },
  {
   "cell_type": "markdown",
   "id": "9916120a-d9b0-4a6a-bb2a-71b2e58b64bb",
   "metadata": {},
   "source": [
    "### Problem 2"
   ]
  },
  {
   "cell_type": "markdown",
   "id": "ea49e409-be83-4840-a5c7-9896d2bc89f1",
   "metadata": {},
   "source": [
    "Let $S_t$ be the price process in CEV model with $r = 0$.\n",
    "Prove that the process\n",
    "$$\n",
    "X_t = \\frac{S_t^{2(1 - \\beta)}}{\\sigma^2(1 - \\beta)^2}\n",
    "$$\n",
    "is the square of the Bessel's process:\n",
    "$$\n",
    "dX_t = \\delta dt + 2 \\sqrt{|X_t|}dW_t\n",
    "$$\n",
    "of dimensionality $\\delta = (1 - 2\\beta) / (1 - \\beta)$.\n",
    "You can assume that the processes are defined until the first hit of 0."
   ]
  },
  {
   "cell_type": "markdown",
   "id": "0e3dd157-d788-4561-b66f-c4f5aa83a4ee",
   "metadata": {},
   "source": [
    "---"
   ]
  },
  {
   "cell_type": "markdown",
   "id": "3aea8a3c-0ebb-4deb-a167-9e90b5a351b2",
   "metadata": {},
   "source": [
    "### Problem 3"
   ]
  },
  {
   "cell_type": "markdown",
   "id": "7e9b7fb6-22f4-4ea7-972f-cde853c912b2",
   "metadata": {},
   "source": [
    "Plot the IV curve in CEV model for different $\\beta$ parameter."
   ]
  },
  {
   "cell_type": "markdown",
   "id": "4c4f3540-ed1f-433c-9212-c5b7a819d453",
   "metadata": {},
   "source": [
    "---"
   ]
  },
  {
   "cell_type": "markdown",
   "id": "ad8d25f8-f4d8-4ab4-bd53-479f7138066b",
   "metadata": {},
   "source": [
    "### Problem 4"
   ]
  },
  {
   "cell_type": "markdown",
   "id": "01fc033f-cc94-4ca2-9c36-a45998dbd0d8",
   "metadata": {},
   "source": [
    "Implement the Hagan and Woodward's formula in `volatility.cev.CEV.iv`.\n",
    "By using the data from `data-2_1.txt` show that:\n",
    "1. Using Hagan and Woodward's formula leads to the same IV curve (you implemented it correctly).\n",
    "2. Model calibration becames substantially faster. To measure time use `%timeit` jupyter magic."
   ]
  },
  {
   "cell_type": "markdown",
   "id": "750a0105-e1c2-4406-9fa4-0d78a1401244",
   "metadata": {},
   "source": [
    "---"
   ]
  }
 ],
 "metadata": {
  "kernelspec": {
   "display_name": "Python 3 (ipykernel)",
   "language": "python",
   "name": "python3"
  },
  "language_info": {
   "codemirror_mode": {
    "name": "ipython",
    "version": 3
   },
   "file_extension": ".py",
   "mimetype": "text/x-python",
   "name": "python",
   "nbconvert_exporter": "python",
   "pygments_lexer": "ipython3",
   "version": "3.9.12"
  }
 },
 "nbformat": 4,
 "nbformat_minor": 5
}
