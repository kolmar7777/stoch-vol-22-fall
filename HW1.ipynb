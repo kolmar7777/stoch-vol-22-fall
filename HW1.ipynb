{
 "cells": [
  {
   "cell_type": "markdown",
   "id": "8c9419db",
   "metadata": {},
   "source": [
    "## Home work 1"
   ]
  },
  {
   "cell_type": "markdown",
   "id": "16465009",
   "metadata": {},
   "source": [
    "The file must be sent to stoch-vol-22-fall@yandex.ru with topic \"stoch-vol HW1\". WARNING: topic is important! Inbox will be filtered automatcally based on exact match. Please zip all files into **one** folder and rename it as \"SurnameName_HW1\" before sending.\n",
    "\n",
    "\n",
    "**Deadline:** 23th of September, 20:10. \n",
    "\n",
    "If you have any questions feel free to ask in Telegram https://t.me/v_antipov or https://t.me/igortao. \n",
    "\n",
    "**Full name:**\n",
    "\n",
    "**Faculty:**"
   ]
  },
  {
   "cell_type": "markdown",
   "id": "5d690f09",
   "metadata": {},
   "source": [
    "### Problem 1\n",
    "In Bachelier models, the market consists of a risk-free asset and stocks, the price of which is set by a Brownian motion with a drift:\n",
    "\n",
    "$$S_t = \\mu t + \\sigma B_t, \\qquad S_0 = s > 0$$\n",
    "\n",
    "(the price may become negative; this is one of the drawbacks of the model). We will assume that the risk-free interest rate is $0$.\n",
    "\n",
    "1. Obtain a partial differential equation for the replication price of a payment obligation of the form $X = g(S_T)$.\n",
    "*(hint: Use FC formula)*\n",
    "\n",
    "2. Find replication price of European call option. \n",
    "\n",
    "*(hint: Use FC formula)*"
   ]
  },
  {
   "cell_type": "markdown",
   "id": "9aa0b8b3",
   "metadata": {},
   "source": [
    "---"
   ]
  },
  {
   "cell_type": "markdown",
   "id": "a7be7b8e",
   "metadata": {},
   "source": [
    "### Problem 2"
   ]
  },
  {
   "cell_type": "markdown",
   "id": "0b29468b",
   "metadata": {},
   "source": [
    "Let $C(s)$ denote the price of a call option in the Black-Scholes model as a function of the stock price (with other parameters fixed). Prove that\n",
    "\n",
    "\n",
    "$$\\lim_{\\substack{s\\to K\\\\T\\to 0}} \\frac{s\\sigma}{C(s)\\sqrt{2\\pi/T}} = 1.$$\n"
   ]
  },
  {
   "cell_type": "markdown",
   "id": "b0d9739f",
   "metadata": {},
   "source": [
    "---"
   ]
  },
  {
   "cell_type": "markdown",
   "id": "a6d65fc4",
   "metadata": {},
   "source": [
    "### Problem 3"
   ]
  },
  {
   "cell_type": "markdown",
   "id": "4b855021",
   "metadata": {},
   "source": [
    "Implement the other Greeks (theta, vega, gamma, volga) in **blacksholes** module. Plot them as functions of asset price *S* (use $K = 1$, $\\sigma=0.25$, $r=0$, $T = 0.25$ and $S$ = np.linsapce$(0.5, 1.5, 100)$). "
   ]
  },
  {
   "cell_type": "markdown",
   "id": "fbaa32ea",
   "metadata": {},
   "source": [
    "---"
   ]
  }
 ],
 "metadata": {
  "kernelspec": {
   "display_name": "Python 3 (ipykernel)",
   "language": "python",
   "name": "python3"
  },
  "language_info": {
   "codemirror_mode": {
    "name": "ipython",
    "version": 3
   },
   "file_extension": ".py",
   "mimetype": "text/x-python",
   "name": "python",
   "nbconvert_exporter": "python",
   "pygments_lexer": "ipython3",
   "version": "3.9.7"
  }
 },
 "nbformat": 4,
 "nbformat_minor": 5
}
