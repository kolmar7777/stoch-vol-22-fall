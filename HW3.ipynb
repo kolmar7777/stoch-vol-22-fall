{
 "cells": [
  {
   "cell_type": "markdown",
   "id": "8c9419db",
   "metadata": {},
   "source": [
    "## Home work 3"
   ]
  },
  {
   "cell_type": "markdown",
   "id": "16465009",
   "metadata": {},
   "source": [
    "The file must be sent to stoch-vol-22-fall@yandex.ru with topic \"stoch-vol HW3\". WARNING: topic is important! Inbox will be filtered automatcally based on exact match. Please zip all files into **one** folder and rename it as \"SurnameName_HW3\" before sending.\n",
    "\n",
    "\n",
    "**Deadline:** 26th of October, 23:59.\n",
    "\n",
    "If you have any questions feel free to ask in Telegram https://t.me/v_antipov or https://t.me/igortao. \n",
    "\n",
    "**Full name:**\n",
    "\n",
    "**Faculty:**"
   ]
  },
  {
   "cell_type": "markdown",
   "id": "a2421df8",
   "metadata": {},
   "source": [
    "---"
   ]
  },
  {
   "cell_type": "markdown",
   "id": "5d690f09",
   "metadata": {},
   "source": [
    "### Problem 1"
   ]
  },
  {
   "cell_type": "markdown",
   "id": "dc89435d-123b-4447-accd-f077df26585f",
   "metadata": {},
   "source": [
    "Consider a market with risk-free asset $B_t \\equiv 1$ and a stock with the following dynamics:\n",
    "$$\n",
    "\\begin{aligned}\n",
    "& dS_t = S_t\\left(\\mu dt + \\sigma_t dW^1_t\\right), \\quad S_0 = 1,\\\\\n",
    "& \\sigma_t = 1 + \\left\\lvert W^2_t \\right\\rvert.\n",
    "\\end{aligned}\n",
    "$$\n",
    "Prove that the market is incomplete."
   ]
  },
  {
   "cell_type": "markdown",
   "id": "9aa0b8b3",
   "metadata": {},
   "source": [
    "---"
   ]
  },
  {
   "cell_type": "markdown",
   "id": "e26fcfdb-9968-40ec-8a55-c604c6abcfcc",
   "metadata": {},
   "source": [
    "### Problem 2"
   ]
  },
  {
   "cell_type": "markdown",
   "id": "d5f410e3-63be-4c11-9cac-3d25b051eb80",
   "metadata": {},
   "source": [
    "Prove that in the Black-Scholes model exists a self-financing admissable strategy $\\pi$\n",
    "such that $V^\\pi_0 = 1$ and $V^\\pi_t = 0$.\n",
    "Therefore, replication price is ambiguous even in complete markets.\n",
    "\n",
    "*Hint: consider process $\\xi_t = \\int_0^t \\frac1{1-s}\\,dW_s$*."
   ]
  },
  {
   "cell_type": "markdown",
   "id": "fbaa32ea",
   "metadata": {},
   "source": [
    "---"
   ]
  },
  {
   "cell_type": "markdown",
   "id": "be90762b-e38c-4cd2-8753-32693213bde8",
   "metadata": {},
   "source": [
    "### Problem 3"
   ]
  },
  {
   "cell_type": "markdown",
   "id": "50f43a21-43bf-479c-aca3-4e13c2853cdd",
   "metadata": {},
   "source": [
    "Consider arbitrage-free market with riskless asset $B_t = B_0 e^{rt}$ and a stock $S_t > 0,\\ t \\in [0, T]$.\n",
    "Let $Q$ be some martingale measure for this market.\n",
    "Then, the arbitrage-free price of call option with strike price $K$ and expiration time $T$ can be represented as:\n",
    "$$\n",
    "C = S_0 \\tilde Q\\left(S_T \\ge K\\right) - \\frac{B_0}{B_T} K Q\\left(S_T \\ge K\\right),\n",
    "$$\n",
    "where $\\tilde Q$ is some probability measuire.\n",
    "\n",
    "Prove that $\\dfrac{\\partial \\tilde Q}{\\partial Q} = \\dfrac{S_T}{S_0}$."
   ]
  },
  {
   "cell_type": "markdown",
   "id": "ff071f63-6169-4683-80fe-348dddec5572",
   "metadata": {},
   "source": [
    "---"
   ]
  }
 ],
 "metadata": {
  "kernelspec": {
   "display_name": "Python 3 (ipykernel)",
   "language": "python",
   "name": "python3"
  },
  "language_info": {
   "codemirror_mode": {
    "name": "ipython",
    "version": 3
   },
   "file_extension": ".py",
   "mimetype": "text/x-python",
   "name": "python",
   "nbconvert_exporter": "python",
   "pygments_lexer": "ipython3",
   "version": "3.9.12"
  }
 },
 "nbformat": 4,
 "nbformat_minor": 5
}
