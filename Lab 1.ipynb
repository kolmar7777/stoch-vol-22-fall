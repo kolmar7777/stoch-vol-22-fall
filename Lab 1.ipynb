{
 "cells": [
  {
   "cell_type": "markdown",
   "id": "69a0f9cd",
   "metadata": {},
   "source": [
    "# Neither Black-Scholes  nor local volatility?"
   ]
  },
  {
   "cell_type": "markdown",
   "id": "6c1d2d28",
   "metadata": {},
   "source": [
    "We offer you the following practical task on Black-Scholes and local volatility model. \n",
    "\n",
    "Total score is **101**, which will be converted to $21\\%$ of the course grade. You have $1$ month for this work. **Deadline is 13th of November, 23:59 MSK**.\n",
    "\n",
    "The file must be sent to **stoch-vol-22-fall@yandex.ru** with topic \"stoch-vol Lab1\".  Please rename your file as **\"SurnameName_Lab1.ipynb\"** before sending. \n",
    "\n",
    "If you have any questions feel free to ask in Telegram https://t.me/v_antipov or https://t.me/igortao."
   ]
  },
  {
   "cell_type": "markdown",
   "id": "fd105669",
   "metadata": {},
   "source": [
    "**Full name:**\n",
    "\n",
    "**Faculty:**"
   ]
  },
  {
   "cell_type": "markdown",
   "id": "f36418cb",
   "metadata": {},
   "source": [
    "## Episode 0: Import all python modules you wish 💅 (1 point)"
   ]
  },
  {
   "cell_type": "code",
   "execution_count": 1,
   "id": "a0982c69",
   "metadata": {},
   "outputs": [
    {
     "name": "stderr",
     "output_type": "stream",
     "text": [
      "<frozen importlib._bootstrap>:228: RuntimeWarning: scipy._lib.messagestream.MessageStream size changed, may indicate binary incompatibility. Expected 56 from C header, got 64 from PyObject\n"
     ]
    }
   ],
   "source": [
    "### YOUR IMPORTS HERE\n",
    "\n",
    "import numpy as np\n",
    "import numpy.typing as npt\n",
    "import matplotlib.pyplot as plt\n",
    "from tqdm import tqdm\n",
    "import volatility as vol\n",
    "import scipy.stats as st\n",
    "from collections.abc import Callable\n",
    "from tqdm.auto import trange"
   ]
  },
  {
   "cell_type": "markdown",
   "id": "0cadf568",
   "metadata": {},
   "source": [
    "---"
   ]
  },
  {
   "cell_type": "markdown",
   "id": "58362ab8",
   "metadata": {},
   "source": [
    "## Episode 1: Around Black-Scholes model 🧠 (50 points)"
   ]
  },
  {
   "cell_type": "markdown",
   "id": "fee1e505",
   "metadata": {},
   "source": [
    "**1**. 💅 <span style=\"color:blue\">(5 points)</span>  Plot **put** option prices as functions of the underlying asset price for different **exercise times** and different **volatilities**. Use parameters \n",
    "\n",
    "$$K = 1, \\quad r = 0, \\quad S \\in [0.5, 1.5],$$\n",
    "\n",
    "and $T \\in \\{0,\\ \\frac{1}{4},\\ \\frac{1}{2},\\ \\frac{3}{4},\\ 1\\}$ (time is measured in years) and $\\sigma \\in \\{0.1, \\ 0.2, \\ 0.3\\}$.\n",
    "\n",
    "*Note: the answer should contain three plots (for each volatility $\\sigma$), each of which shows option prices for different excercise times $T$.*"
   ]
  },
  {
   "cell_type": "code",
   "execution_count": 2,
   "id": "2edf4efc",
   "metadata": {},
   "outputs": [],
   "source": [
    "### YOUR CODE HERE"
   ]
  },
  {
   "cell_type": "markdown",
   "id": "e441ad15",
   "metadata": {},
   "source": [
    "---"
   ]
  },
  {
   "cell_type": "markdown",
   "id": "3880a8a1",
   "metadata": {},
   "source": [
    "**2**. 💅 <span style=\"color:blue\">(5 points)</span>  What kind of dependence on the parameters of put option price do you observe? How does the price of a put option change with changes in volatility, time to expiration? Why? Provide the intuition. "
   ]
  },
  {
   "cell_type": "markdown",
   "id": "15ab2720",
   "metadata": {},
   "source": [
    "YOUR ANSWER HERE"
   ]
  },
  {
   "cell_type": "markdown",
   "id": "ae728741",
   "metadata": {},
   "source": [
    "---"
   ]
  },
  {
   "cell_type": "markdown",
   "id": "c582d29d",
   "metadata": {},
   "source": [
    "**3**. 💅 <span style=\"color:blue\">(10 points)</span> Show theta-gamma relationship in Black-Scholes model for put option. Assume that interest rate $r=0$ and show that \n",
    "\n",
    "$$\\dfrac{\\partial P}{\\partial t} + \\dfrac{S^2 \\sigma^2}{2} \\dfrac{\\partial^2 P}{\\partial S^2} = 0.$$\n",
    "\n",
    "*Note: Calculate $\\dfrac{\\partial P}{\\partial t}$ and $\\dfrac{\\partial^2 P}{\\partial S^2}$ as functions of $S$. Using $K = 1, \\sigma = 0.2, T = 1$ and $S \\in [ 0.5, 1.5 ]$*, show the equality above by plotting the corresponding terms of the equation. "
   ]
  },
  {
   "cell_type": "code",
   "execution_count": 3,
   "id": "f9e3f2da",
   "metadata": {},
   "outputs": [],
   "source": [
    "### YOUR CODE HERE"
   ]
  },
  {
   "cell_type": "markdown",
   "id": "cb977d74",
   "metadata": {},
   "source": [
    "---"
   ]
  },
  {
   "cell_type": "markdown",
   "id": "dffad7e7",
   "metadata": {},
   "source": [
    "**4**. 💅 <span style=\"color:blue\">(10 points)</span> Replicate considered put option using the portfolio rebalanced $n$ times (i.e. every $dt = T/n$ units of time). Using simulations, estimate the distribution of the replication error.\n",
    "\n",
    "\n",
    "    1) Generate m random trajectories of price process trajectories on the segment [0,t] with a step dt = T/n.\n",
    "\n",
    "    2) For each trajectory at each moment of time, find a replicating portfolio. Assume that the initial value of the portfolio is equal to the option price.\n",
    "\n",
    "    3) For each trajectory, calculate the difference between the value of the replicating portfolio at time T and the payout to be made on the option.\n",
    "\n",
    "    4) Display the distribution of the obtained differences in the form of a histogram.\n",
    "\n",
    "*Note: use $m = 2^{10} - 1$ and $n$ = 123*. "
   ]
  },
  {
   "cell_type": "code",
   "execution_count": 4,
   "id": "9cbc9fe8",
   "metadata": {},
   "outputs": [],
   "source": [
    "### YOUR CODE HERE"
   ]
  },
  {
   "cell_type": "markdown",
   "id": "cf5c6ac4",
   "metadata": {},
   "source": [
    "---"
   ]
  },
  {
   "cell_type": "markdown",
   "id": "72d7189e",
   "metadata": {},
   "source": [
    "**5**. 🧠 <span style=\"color:blue\">(10 points)</span> Let $C_{call} (S_t, r, \\sigma, t) := C(t, S_t)$ be a call option price where $C(t, S)$ satisfies BS equation. Suppose that we sell a call option at $t=0$ at implied volatility $\\hat \\sigma$, i.e. we get the premium $C_{call}(S_0, r, \\hat \\sigma, 0)$. Hence the hedging strategy is such that the number of the risky asset held at time $t$ is $$H_t = \\dfrac{\\partial C}{\\partial S}.$$ Moreover, suppose that the true dynamics of asset price is **not** geometric Brownian motion $dS_t = r S_t dt + \\sigma S_t dW_t$, but is given by more general Ito process\n",
    "\n",
    "$$dS_t = \\alpha_t S_t dt + \\beta_t S_t dW_t. $$  "
   ]
  },
  {
   "cell_type": "markdown",
   "id": "c9913277",
   "metadata": {},
   "source": [
    "5.1 <span style=\"color:blue\">(1 point out of 10)</span> Using strategy $H_t$, write SDE for the value $X_t$ of hedging portfolio, assuming that we hold $\\dfrac{\\partial C}{\\partial S}$ units of risky asset and $X_t - \\dfrac{\\partial C}{\\partial S} S_t$ money in riskless one."
   ]
  },
  {
   "cell_type": "markdown",
   "id": "610737be",
   "metadata": {},
   "source": [
    "YOUR ANSWER"
   ]
  },
  {
   "cell_type": "markdown",
   "id": "4a350a6a",
   "metadata": {},
   "source": [
    "5.2 <span style=\"color:blue\">(1 point out of 10)</span> Assume that $Y_t = C(t, S_t)$. Applying Ito formula to $Y_t$, write SDE for $Y_t$.  "
   ]
  },
  {
   "cell_type": "markdown",
   "id": "28baa941",
   "metadata": {},
   "source": [
    "YOUR ANSWER"
   ]
  },
  {
   "cell_type": "markdown",
   "id": "70804a40",
   "metadata": {},
   "source": [
    "5.3 <span style=\"color:blue\">(3 points out of 10)</span> Using answers from 5.1 and 5.2 and BS equation, show that hedging error $Z_t = X_t - Y_t$ satisfies\n",
    "\n",
    "$$\\dfrac{d}{dt} Z_t = r Z_t + \\dfrac{1}{2} S_t^2 \\dfrac{\\partial^2 C}{\\partial S^2} \\left( \\hat \\sigma^2 - \\beta^2_t \\right).$$"
   ]
  },
  {
   "cell_type": "markdown",
   "id": "3aa26dd2",
   "metadata": {},
   "source": [
    "YOUR ANSWER"
   ]
  },
  {
   "cell_type": "markdown",
   "id": "f91f5b7c",
   "metadata": {},
   "source": [
    "5.4 <span style=\"color:blue\">(3 points out of 10)</span> Solve the equation for $Z_t$ above and show that \n",
    "\n",
    "$$Z_T = \\int_{0}^{T} e^{r(T-s)} \\dfrac{1}{2} S_t^2 \\dfrac{\\partial^2 C}{\\partial S^2} \\left( \\hat \\sigma^2 - \\beta_t^2 \\right) dt. $$"
   ]
  },
  {
   "cell_type": "markdown",
   "id": "7b19ef97",
   "metadata": {},
   "source": [
    "YOUR ANSWER"
   ]
  },
  {
   "cell_type": "markdown",
   "id": "c0aa27e3",
   "metadata": {},
   "source": [
    "5.5 <span style=\"color:blue\">(2 points out of 10)</span> Looking at the results above, is it possible to make a **profit with probability one** even though the true price model is substantially different from the assumed model (GBM)? What condition is sufficient for getting this profit? "
   ]
  },
  {
   "cell_type": "markdown",
   "id": "10359aab",
   "metadata": {},
   "source": [
    "YOUR ANSWER"
   ]
  },
  {
   "cell_type": "markdown",
   "id": "c37ad43a",
   "metadata": {},
   "source": [
    "---"
   ]
  },
  {
   "cell_type": "markdown",
   "id": "e0aa642f",
   "metadata": {},
   "source": [
    "---"
   ]
  },
  {
   "cell_type": "markdown",
   "id": "c3e05fe7",
   "metadata": {},
   "source": [
    "## Episode 2: Local volatility from Monte Carlo perspective (50 points)"
   ]
  },
  {
   "cell_type": "markdown",
   "id": "12aa37f5",
   "metadata": {},
   "source": [
    "It is known, that the local volatility model has wrong implied volatility dynamics (inconsistent with the market). Approximating market with local volatility (LV) model leads to incorrect hedge. Your goal is to demonstrate the incorrectness of hedge in LV model."
   ]
  },
  {
   "cell_type": "markdown",
   "id": "e49599b4",
   "metadata": {},
   "source": [
    "**1.** 💅 <span style=\"color:blue\">(0 points)</span> **Market dynamics**"
   ]
  },
  {
   "cell_type": "markdown",
   "id": "1fa5f7a4",
   "metadata": {},
   "source": [
    "We assume that the market is driven by the SABR model (will be later in the course). The function to simulate paths of this model is given below, you can use it. You are free to tweak hyper parameters too."
   ]
  },
  {
   "cell_type": "code",
   "execution_count": 5,
   "id": "bbddb580",
   "metadata": {},
   "outputs": [],
   "source": [
    "ALPHA = 0.15\n",
    "BETA = 0.2\n",
    "RHO = -0.3\n",
    "NU = 0.3"
   ]
  },
  {
   "cell_type": "code",
   "execution_count": 6,
   "id": "575ae7b4",
   "metadata": {},
   "outputs": [],
   "source": [
    "def make_pseudo_market_simulator(\n",
    "    nsteps: int,\n",
    "    alpha: float,\n",
    "    beta: float,\n",
    "    rho: float,\n",
    "    nu: float,\n",
    "    t_stop: float = 1.0,\n",
    ") -> Callable[[int], npt.NDArray[np.float_]]:\n",
    "    \"\"\"\n",
    "    Functions that makes proper simulator for Monte-Carlo. Paths from this\n",
    "    simulator are assumed to represent the true market dynamics.\n",
    "    \n",
    "    Args:\n",
    "        nsteps (int): number of steps in the discretization.\n",
    "        alpha (float): model parameter, alpha > 0.\n",
    "        beta (float): model parameter, 0 < beta < 1.\n",
    "        rho (float): model parameter, -1 <= rho <= 1.\n",
    "        nu (float): model parameter, nu > 0.\n",
    "        t_stop (float): time horizon for trajectories.\n",
    "    Returns:\n",
    "        Callable(int) -> np.NDArray, proper simulator for MC\n",
    "    \"\"\"\n",
    "\n",
    "    s = 1.0\n",
    "    \n",
    "    def simulate(npaths: int):\n",
    "        dt = t_stop / nsteps\n",
    "        sqrtdt = np.sqrt(dt)\n",
    "        Z = st.norm.rvs(size=(2, nsteps, npaths))\n",
    "        Alpha = alpha*np.exp(np.concatenate([\n",
    "            np.zeros(shape=(1, npaths)),\n",
    "            np.cumsum(Z[0]*nu*sqrtdt - 0.5*nu**2*dt, axis=0)]))\n",
    "\n",
    "        if beta == 0:\n",
    "            S = np.cumsum(np.concatenate([\n",
    "                np.ones(shape=(1, npaths))*s,\n",
    "                Alpha[:-1] *\n",
    "                (rho*Z[0] + np.sqrt(1-rho**2)*Z[1])*sqrtdt]), axis=0)\n",
    "        elif beta < 1:\n",
    "            S = np.empty_like(Alpha)\n",
    "            S[0] = s\n",
    "            for i in range(nsteps):\n",
    "                S[i+1] = np.maximum(\n",
    "                    0,\n",
    "                    S[i] + Alpha[i]*S[i]**beta *\n",
    "                    (rho*Z[0, i] + np.sqrt(1-rho**2)*Z[1, i])*sqrtdt)\n",
    "        elif beta == 1:\n",
    "            X = np.cumsum(np.concatenate([\n",
    "                np.zeros(shape=(1, npaths)),\n",
    "                -0.5*Alpha[:-1]**2*dt + Alpha[:-1] *\n",
    "                (rho*Z[0] + np.sqrt(1-rho**2)*Z[1])*sqrtdt]), axis=0)\n",
    "            S = s*np.exp(X)\n",
    "        else:\n",
    "            X = np.empty_like(Alpha)\n",
    "            X[0] = np.log(s)\n",
    "            for i in range(nsteps):\n",
    "                X[i+1] = X[i] - (\n",
    "                    0.5*Alpha[i]**2*np.exp(2*(beta-1)*X[i])*dt +\n",
    "                    Alpha[i]*np.exp((beta-1)*X[i]) *\n",
    "                    (rho*Z[0, i] + np.sqrt(1-rho**2)*Z[1, i])*sqrtdt)\n",
    "            S = np.exp(X)\n",
    "        return S\n",
    "        \n",
    "    return simulate"
   ]
  },
  {
   "cell_type": "code",
   "execution_count": 7,
   "id": "e56d4640",
   "metadata": {},
   "outputs": [],
   "source": [
    "# EXAMPLE OF SIMULATION\n",
    "np.random.seed(42)\n",
    "simulator = make_pseudo_market_simulator(nsteps=100, alpha=ALPHA, beta=BETA, rho=RHO, nu=NU)\n",
    "simulated_paths = simulator(npaths=10000)"
   ]
  },
  {
   "cell_type": "code",
   "execution_count": 8,
   "id": "63ffa626",
   "metadata": {},
   "outputs": [
    {
     "data": {
      "image/png": "[encoded data removed]",
      "text/plain": [
       "<Figure size 640x480 with 1 Axes>"
      ]
     },
     "metadata": {},
     "output_type": "display_data"
    }
   ],
   "source": [
    "# TRAJECTORIES PLOT\n",
    "plt.plot(simulated_paths[:, 0])\n",
    "plt.plot(simulated_paths[:, 1])\n",
    "plt.plot(simulated_paths[:, 2])\n",
    "plt.plot(simulated_paths[:, 3])\n",
    "\n",
    "plt.ylabel('SABR asset price')\n",
    "plt.xlabel('time step')\n",
    "\n",
    "plt.grid()\n",
    "plt.show()"
   ]
  },
  {
   "cell_type": "markdown",
   "id": "6c5cae3e",
   "metadata": {},
   "source": [
    "We assume that $S_0 = 1$ and consider one European call ATM option with strike $K=1$ and time to expiration $T = 1$ year."
   ]
  },
  {
   "cell_type": "code",
   "execution_count": 9,
   "id": "baf867e3",
   "metadata": {},
   "outputs": [],
   "source": [
    "OPT_STRIKE = 1.0\n",
    "OPT_EXPIRATION = 1.0"
   ]
  },
  {
   "cell_type": "markdown",
   "id": "69fe743e",
   "metadata": {},
   "source": [
    "---"
   ]
  },
  {
   "cell_type": "markdown",
   "id": "1679f014",
   "metadata": {},
   "source": [
    "**2.** 🧠 <span style=\"color:blue\">(5 points)</span> **Pricing**"
   ]
  },
  {
   "cell_type": "markdown",
   "id": "5763ffe1",
   "metadata": {},
   "source": [
    "Using market dynamics simulator and MC simulator from `volatility` module, calculate the market price of call option and its market implied volatility.  "
   ]
  },
  {
   "cell_type": "code",
   "execution_count": 10,
   "id": "dc39e404",
   "metadata": {},
   "outputs": [],
   "source": [
    "# YOUR CODE\n",
    "\n",
    "# opt_market_price = vol.mc.monte_carlo(simulator = ...,)\n",
    "\n",
    "# opt_market_iv = vol.blackscholes.call_iv(...)"
   ]
  },
  {
   "cell_type": "markdown",
   "id": "f1927e23-2a11-4a8b-be45-d6a61d7784c8",
   "metadata": {},
   "source": [
    "**3.** 🧠 <span style=\"color:blue\">(5 points)</span> **Setting up the LV model**"
   ]
  },
  {
   "cell_type": "markdown",
   "id": "022553f8-9440-4453-8ca6-92dd37221239",
   "metadata": {},
   "source": [
    "Define a grid of options, calc their market price using MC with given simlator and fit the leverage function using Dupire's formula.\n",
    "Be shure that the strikes range is wide enough to cover a large share of possible final stock prices.\n",
    "The result shoud be a function of time and stock price that calculates the value of the leverage function."
   ]
  },
  {
   "cell_type": "code",
   "execution_count": 11,
   "id": "b587ba17-3bda-43a0-b708-49ddbea2ab69",
   "metadata": {},
   "outputs": [],
   "source": [
    "# YOUR CODE"
   ]
  },
  {
   "cell_type": "markdown",
   "id": "6267b71b-33cd-49d0-9fbf-99d74739df3b",
   "metadata": {},
   "source": [
    "**4.** 🧠 <span style=\"color:blue\">(10 points)</span> **MC in the LV model**"
   ]
  },
  {
   "cell_type": "markdown",
   "id": "44e26e9f-cc26-45d3-992f-11bfeed7ffc4",
   "metadata": {},
   "source": [
    "Write a function, that makes a proper simulator for the LV model.\n",
    "It shoud take 3 parameters: initial stock price, starting time and leverage function.\n",
    "The simulator then samples trajectories from time `t0` assuming that initial stock price is `s0`."
   ]
  },
  {
   "cell_type": "code",
   "execution_count": 12,
   "id": "284ef24e-e66a-40e8-8be7-9f89b90087f8",
   "metadata": {},
   "outputs": [],
   "source": [
    "def make_lv_simulator(\n",
    "    s0: float,\n",
    "    t0: float,\n",
    "    sigma_lv: Callable[[float, float], float]\n",
    ") -> Callable[[int], npt.NDArray[np.float_]]:\n",
    "    \"\"\"\n",
    "    Makes MC simulator for LV model.\n",
    "    \n",
    "    The function uses Euler discretization scheme to simulate the SDE for the\n",
    "    logarithm of stock price.\n",
    "    \n",
    "    Args:\n",
    "        s0 (float): initial stock price.\n",
    "        t0 (float): starting time.\n",
    "        sigma_lv (Callable[[float, float], float]): function of current time\n",
    "            (absolute time, not time to expiration) and current stock price\n",
    "            that returns the value of leverage function at that point.\n",
    "    Returns:\n",
    "        simulator (Callable[[int], npt.NDArray[np.float_]]): proper MC\n",
    "            simulator that samples trajectories from defined LV model.\n",
    "    \"\"\"\n",
    "    \n",
    "    # MAY BE SOME CODE HERE\n",
    "    \n",
    "    def simulate(npaths: int):\n",
    "        \n",
    "        # YOUR CODE HERE\n",
    "        \n",
    "        raise NotImplementedError  # placeholder, remove\n",
    "        \n",
    "    # MAY BE SOME CODE HERE\n",
    "        \n",
    "    return simulate"
   ]
  },
  {
   "cell_type": "markdown",
   "id": "29eccae3",
   "metadata": {},
   "source": [
    "Let's sell our option and hedge it in the LV model.\n",
    "Our goal is to collect a sample of total P&Ls of such an operation.\n",
    "Total P&L consists of 3 components:\n",
    "1. Initial option price. We assume that we sell the option for its market price.\n",
    "1. Hedging P&L.\n",
    "At each time step we calculate option's delta and buy the proper amount of underlying. \n",
    "Hold this amount for one step and then repeat the procedure until expiration.\n",
    "1. At expiration we pay option's payoff.\n",
    "\n",
    "We assume that we don't know the market price of our option at any other time points except for the initial.\n",
    "So, we need to use our model to get an option price and it's delta. \n",
    "How will we do it?\n",
    "Let \n",
    "$$C_{LV}(T, K \\mid t_0 = t, s_0 = s)$$\n",
    "be the function, \n",
    "that values the option with expiration time $T$, strike $K$ using the fitted LV model and assuming that\n",
    "we are pricing this option at time $t_0$ and the underlying price is $s_0$ at the time of pricing.\n",
    "We can define the corresponding implied volatility function $\\hat \\sigma_{LV}(T, K \\mid t_0 = t, s_0 = s)$ such that\n",
    "$$C_{LV}(T, K \\mid t_0 = t, s_0 = s) = C_{BS}\\bigl(T, K \\bigm| t_0 = t, s_0 = s, \\hat \\sigma = \\hat \\sigma_{LV}(T, K \\mid t_0 = t, s_0 = s)\\bigr).$$\n",
    "So, if we substitute our IV function in the Black-Scholes formula, \n",
    "we obtain option price consistent with our LV model.\n",
    "\n",
    "The formula for option's delta will be:\n",
    "$$\n",
    "\\Delta_{LV}(T, K \\mid t_0 = t, s_0 = s)\n",
    "= \\frac{\\partial}{\\partial s} C_{LV}(T, K \\mid t_0 = t, s_0 = s) =\\\\\n",
    "= \\Delta_{BS}\\bigl(T, K \\bigm| t_0 = t, s_0 = s, \\hat \\sigma = \\hat \\sigma_{LV}(T, K \\mid t_0 = t, s_0 = s)\\bigr) +\\\\\n",
    "+ \\mathcal{V}_{BS}\\bigl(T, K \\bigm| t_0 = t, s_0 = s, \\hat \\sigma = \\hat \\sigma_{LV}(T, K \\mid t_0 = t, s_0 = s)\\bigr)\n",
    "\\cdot \\frac{\\partial}{\\partial s} \\hat \\sigma_{LV}(T, K \\mid t_0 = t, s_0 = s) =\\\\\n",
    "= \\Delta_{BS} + \\underline{\\mathcal{V}_{BS} \\frac{\\partial}{\\partial s} \\hat \\sigma_{LV}}.\n",
    "$$\n",
    "\n",
    "The first term is classical BS delta. The second term is called **shadow delta**. To calculate the whole delta you need 2 functions: LV implied volatility function and it's derivative wrt stock price.\n",
    "The problem in the LV model is that the $\\frac{\\partial}{\\partial s} \\hat \\sigma_{LV}$ has the opposite sign to the behavior usually seen in real markets.\n",
    "So if we just don't account the seccond term in our delta calculation, we shoud obtain a better hedge (but mathematically inconsistent with the LV model)."
   ]
  },
  {
   "cell_type": "markdown",
   "id": "440ae83d-7545-4278-8687-d17b70a56b9c",
   "metadata": {},
   "source": [
    "**5.** 🧠 <span style=\"color:blue\">(10 points)</span> **LV IV**"
   ]
  },
  {
   "cell_type": "markdown",
   "id": "5367ba9e-c00a-464b-af44-9855d24803eb",
   "metadata": {},
   "source": [
    "Here you should construct the IV function $\\hat \\sigma (\\cdot, \\cdot)$.\n",
    "To do it:\n",
    "1. define the grid of initial conditions (time and stock price);\n",
    "2. apply MC from each pair of stock price and time to price our option (be carefull, the time to expiration will be `OPT_EXPIRATION - t` instead of `t`);\n",
    "3. calculate the implied volatilities for each set of initial conditions (it may fail at some points, it's OK, just filter that points out);\n",
    "4. fit `SmoothBivariateSpline` to optain the desired function and use `SmoothBivariateSpline.partial_derivative` to get the IV's derivative."
   ]
  },
  {
   "cell_type": "code",
   "execution_count": 13,
   "id": "a1c057a0-7186-4bd5-8369-0a107bbfb95d",
   "metadata": {},
   "outputs": [],
   "source": [
    "# YOUR CODE"
   ]
  },
  {
   "cell_type": "markdown",
   "id": "d7fdce33-ca9d-4103-baf6-461d9d084e2c",
   "metadata": {},
   "source": [
    "**6.** 🧠 <span style=\"color:blue\">(10 points)</span> **Backtesting option hedging**"
   ]
  },
  {
   "cell_type": "markdown",
   "id": "21da037c-962d-4863-9505-49d2b8d050db",
   "metadata": {},
   "source": [
    "Now your goal is to define a function, that performs a backtest.\n",
    "The function must take the LV IV functoin and optionally it's derivative.\n",
    "If the derivative is given, the function shoud calc the full derivative,\n",
    "if not, it shoud calc only the BS delta with LV IV substituted in it.\n",
    "\n",
    "Backtest works as follows.\n",
    "It samples some paths using **market** sampler.\n",
    "Then at each time step in a loop it calculates delta and calculates P&L for the next day.\n",
    "So, the formula for the total P&L reads:\n",
    "$$P\\&L = C_{mkt} + \\sum_{t=0}^{T-1} \\Delta_t(S_{t+1} - S_t) - \\max(0, S_T - K)$$"
   ]
  },
  {
   "cell_type": "code",
   "execution_count": 14,
   "id": "5e5e8679",
   "metadata": {},
   "outputs": [],
   "source": [
    "# YOUR CODE"
   ]
  },
  {
   "cell_type": "markdown",
   "id": "d78d8e5b-556d-4e5f-9aa7-691818f91ea7",
   "metadata": {},
   "source": [
    "**7.** 🧠 <span style=\"color:blue\">(10 points)</span> **Comparison**"
   ]
  },
  {
   "cell_type": "markdown",
   "id": "274b27a6-c333-4814-aeb9-9cb833e73bca",
   "metadata": {},
   "source": [
    "Generate to samples: with the shadow delta and without it.\n",
    "What is the theoretical **expected value** of the total P&L in both ways?\n",
    "Justify your answer.\n",
    "Apply to the samples proper statistical tests that show it.\n",
    "What does it mean that one way of hedging is more accurate than other?\n",
    "How can we statistically prove (mention proper test) that hedging with full delta is less accurate\n",
    "than heding with only the first term?\n",
    "Show it on the data.\n",
    "\n",
    "**Note:** To eliminate impact of randomness on comparison, fix random seed or compare on the same set of paths."
   ]
  },
  {
   "cell_type": "markdown",
   "id": "ef3ef6fc-129c-45c5-89e0-416636415029",
   "metadata": {},
   "source": [
    "YOUR ANSWERS"
   ]
  },
  {
   "cell_type": "code",
   "execution_count": 15,
   "id": "d48d2f56-0cf9-45d6-b0ce-768b9a3b5ce4",
   "metadata": {},
   "outputs": [],
   "source": [
    "# YOUR CODE"
   ]
  }
 ],
 "metadata": {
  "kernelspec": {
   "display_name": "Python 3 (ipykernel)",
   "language": "python",
   "name": "python3"
  },
  "language_info": {
   "codemirror_mode": {
    "name": "ipython",
    "version": 3
   },
   "file_extension": ".py",
   "mimetype": "text/x-python",
   "name": "python",
   "nbconvert_exporter": "python",
   "pygments_lexer": "ipython3",
   "version": "3.9.7"
  }
 },
 "nbformat": 4,
 "nbformat_minor": 5
}
