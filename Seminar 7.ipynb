{
 "cells": [
  {
   "cell_type": "code",
   "execution_count": 1,
   "id": "436dc1c2-e86a-4aaa-84cf-a0e8ab9fba12",
   "metadata": {},
   "outputs": [],
   "source": [
    "import numpy as np\n",
    "import matplotlib.pyplot as plt\n",
    "from volatility import blackscholes, mc\n",
    "import scipy.stats as st "
   ]
  },
  {
   "cell_type": "markdown",
   "id": "4afbc018-60ab-4284-ad65-ea6c37fc1618",
   "metadata": {},
   "source": [
    "### Problem 1: Local volatility "
   ]
  },
  {
   "cell_type": "markdown",
   "id": "77d3fbe0-b452-4230-b2d7-13045a7eb85a",
   "metadata": {},
   "source": [
    "File `data-2_3.txt` conatains call option prices and ivs for different strikes and time to expiration. The following times to expiration grid  $T\\in\\{0.1,0.15,\\dots,0.4\\}$ and strikes grid $K\\in\\{0.65,0.7,\\dots,1.35\\}$ are used. Initial stock price  is $1$, risk-free rate $r$ is $0$."
   ]
  },
  {
   "cell_type": "markdown",
   "id": "5f64baa6-d42c-42b9-9a88-24ac42c86992",
   "metadata": {},
   "source": [
    "$$\\sigma(t,s) = \\sqrt{v(t,\\ln(s/s_0))},$$\n",
    "\n",
    "$$ v(t,y) = \\frac{w'_t}{ 1 - \\frac{y}{w} w'_y + \\frac14 (-\\frac14 - \\frac1w + \\frac{y^2}{w^2}) (w'_y)^2  +\\frac12 w''_{yy}}, $$\n",
    "\n",
    "$$w(t,y) = \\hat\\sigma(t, s_0 e^y) t$$\n",
    "\n",
    "where $ \\hat\\sigma(\\cdot, \\cdot)$ is market implied volatility."
   ]
  },
  {
   "cell_type": "markdown",
   "id": "c467f9e6-671f-4a6c-8c74-3f1287976cb3",
   "metadata": {},
   "source": [
    "Calibrate local volatility model using the formula above. "
   ]
  },
  {
   "cell_type": "code",
   "execution_count": 20,
   "id": "6279b7c2-bfd9-4e41-aefa-b80ac808cd9a",
   "metadata": {},
   "outputs": [],
   "source": [
    "from scipy.interpolate import SmoothBivariateSpline"
   ]
  },
  {
   "cell_type": "code",
   "execution_count": 13,
   "id": "ce8388a1-84bf-46b8-8593-cae75c577d57",
   "metadata": {},
   "outputs": [],
   "source": [
    "T, K, C, IV = np.loadtxt(\"data-2_3.txt\", skiprows=1, delimiter=\",\", unpack=True)"
   ]
  },
  {
   "cell_type": "code",
   "execution_count": 18,
   "id": "e9583a3f-a24b-49fa-95e2-3500cc7cd6b8",
   "metadata": {},
   "outputs": [],
   "source": [
    "w = IV**2 * T"
   ]
  },
  {
   "cell_type": "code",
   "execution_count": 21,
   "id": "4ee30ce5-1185-4f04-ad83-a12f2f932ebf",
   "metadata": {},
   "outputs": [],
   "source": [
    "w = SmoothBivariateSpline(T, np.log(K), w)"
   ]
  },
  {
   "cell_type": "code",
   "execution_count": 23,
   "id": "6d5e04fa-7a3b-41ad-9095-b79639db00ee",
   "metadata": {},
   "outputs": [],
   "source": [
    "w_t = w.partial_derivative(dx=1, dy=0)\n",
    "w_y = w.partial_derivative(dx=0, dy=1)\n",
    "w_yy = w.partial_derivative(dx=0, dy=2)"
   ]
  },
  {
   "cell_type": "code",
   "execution_count": 24,
   "id": "93a94634-0bd1-488e-8132-78745410bf07",
   "metadata": {},
   "outputs": [],
   "source": [
    "v = lambda t,y: w_t(t, y) / (\n",
    "    1 - y/w(t, y) * w_y(t, y) \n",
    "    + 0.25 * (-0.25 - 1/w(t, y) + y**2 / w(t,y)**2) * (w_y(t,y))**2 + \n",
    "    + 0.5 * w_yy(t, y))"
   ]
  },
  {
   "cell_type": "code",
   "execution_count": 28,
   "id": "6e97b8d6-d669-4b5b-8316-daf830af9956",
   "metadata": {},
   "outputs": [],
   "source": [
    "sigma = lambda t,s: np.sqrt(v(t, np.log(s)))"
   ]
  },
  {
   "cell_type": "code",
   "execution_count": 40,
   "id": "95af8098-f970-4623-a006-e11ba7c1fbaf",
   "metadata": {},
   "outputs": [],
   "source": [
    "s = np.linspace(0.5, 2.5, 50)"
   ]
  },
  {
   "cell_type": "code",
   "execution_count": 41,
   "id": "d7fd26f4-cc2c-4787-9392-efba7e6f2202",
   "metadata": {},
   "outputs": [],
   "source": [
    "t_grid = [0.1, 0.15, 0.2, 0.25]"
   ]
  },
  {
   "cell_type": "code",
   "execution_count": 42,
   "id": "bdbb9283-3174-4e91-8c03-32743c415e98",
   "metadata": {},
   "outputs": [
    {
     "data": {
      "image/png": "[encoded data removed]",
      "text/plain": [
       "<Figure size 432x288 with 1 Axes>"
      ]
     },
     "metadata": {
      "needs_background": "light"
     },
     "output_type": "display_data"
    }
   ],
   "source": [
    "for t in t_grid:\n",
    "    plt.plot(s, sigma(t, s).squeeze(), label=\"t={}\".format(t))\n",
    "    \n",
    "plt.legend()\n",
    "plt.grid(True)\n",
    "plt.show()"
   ]
  },
  {
   "cell_type": "code",
   "execution_count": null,
   "id": "6d593b57-e1b8-49ae-aa35-0e1fa23db7e8",
   "metadata": {},
   "outputs": [],
   "source": []
  }
 ],
 "metadata": {
  "kernelspec": {
   "display_name": "Python 3 (ipykernel)",
   "language": "python",
   "name": "python3"
  },
  "language_info": {
   "codemirror_mode": {
    "name": "ipython",
    "version": 3
   },
   "file_extension": ".py",
   "mimetype": "text/x-python",
   "name": "python",
   "nbconvert_exporter": "python",
   "pygments_lexer": "ipython3",
   "version": "3.9.7"
  }
 },
 "nbformat": 4,
 "nbformat_minor": 5
}
